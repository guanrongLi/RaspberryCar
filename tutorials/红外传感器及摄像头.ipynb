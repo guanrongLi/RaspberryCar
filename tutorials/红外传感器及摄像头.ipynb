{
 "cells": [
  {
   "cell_type": "markdown",
   "source": [
    "\n",
    "# 红外传感器与摄像头"
   ],
   "metadata": {
    "collapsed": false
   }
  },
  {
   "cell_type": "markdown",
   "source": [
    "## 1、红外距离传感器"
   ],
   "metadata": {
    "collapsed": false
   }
  },
  {
   "cell_type": "markdown",
   "source": [
    "\n",
    "红外测距传感器具有一对红外信号发射与接收二极管，利用的红外测距传感器发射出一束红外光，在照射到物体后形成一个反射的过程，反射到传感器后接收信号，然后利用CCD图像处理接收发射与接收的时间差的数据。经信号处理器处理后计算出物体的距离。"
   ],
   "metadata": {
    "collapsed": false
   }
  },
  {
   "cell_type": "markdown",
   "source": [
    "\n",
    "小车上使用的红外距离传感器相当于一个电子开关，检测到障碍输出低电平，平时为高电平，可以通过调节电位器改变检测距离"
   ],
   "metadata": {
    "collapsed": false
   }
  },
  {
   "cell_type": "markdown",
   "source": [
    "\n",
    "## 2、红外巡线传感器"
   ],
   "metadata": {
    "collapsed": false
   }
  },
  {
   "cell_type": "markdown",
   "source": [
    "\n",
    "红外巡线传感器 有一个红外发射管和一个红外接收管，当地面为黑色 吸收所有光， 所以接受管不会导通当地面为白色，反射所有光，所以接收管导通，其工作原理与距离传感器基本相同"
   ],
   "metadata": {
    "collapsed": false
   }
  },
  {
   "cell_type": "markdown",
   "source": [
    "\n",
    "### 测试程序"
   ],
   "metadata": {
    "collapsed": false
   }
  },
  {
   "cell_type": "code",
   "execution_count": null,
   "outputs": [],
   "source": [
    "\n",
    "import RPi.GPIO as GPIO\n",
    "import time"
   ],
   "metadata": {
    "collapsed": false,
    "pycharm": {
     "name": "#%%\n"
    }
   }
  },
  {
   "cell_type": "markdown",
   "source": [
    "\n",
    "导入GPIO库后定义小车的所有红外传感器接口，并且对接口进行初始化"
   ],
   "metadata": {
    "collapsed": false,
    "pycharm": {
     "name": "#%% md\n"
    }
   }
  },
  {
   "cell_type": "code",
   "execution_count": null,
   "outputs": [],
   "source": [
    "\n",
    "class CarInfrared(object):\n",
    "    def __init__(self):\n",
    "        self.GPIO_Infrared_right = 8\n",
    "        self.GPIO_Infrared_left = 7\n",
    "\n",
    "        self.GPIO_left_tracking = 16\n",
    "        self.GPIO_right_tracking = 12\n",
    "\n",
    "        GPIO.setup(self.GPIO_Infrared_right, GPIO.IN)\n",
    "        GPIO.setup(self.GPIO_Infrared_left, GPIO.IN)\n",
    "\n",
    "        GPIO.setup(self.GPIO_left_tracking, GPIO.IN)\n",
    "        GPIO.setup(self.GPIO_right_tracking, GPIO.IN)\n",
    "\n",
    "    def InfraredMeasure(self):\n",
    "        left_measure = GPIO.input(self.GPIO_Infrared_left)\n",
    "        right_measure = GPIO.input(self.GPIO_Infrared_right)\n",
    "\n",
    "        return [left_measure, right_measure]\n",
    "\n",
    "    def TrackingMreasure(self):\n",
    "        left_tracking = GPIO.input(self.GPIO_left_tracking)\n",
    "        right_tracking = GPIO.input(self.GPIO_right_tracking)#1黑0白\n",
    "\n",
    "        return [left_tracking, right_tracking]"
   ],
   "metadata": {
    "collapsed": false,
    "pycharm": {
     "name": "#%%\n"
    }
   }
  },
  {
   "cell_type": "markdown",
   "source": [
    "\n",
    "测试传感器输出"
   ],
   "metadata": {
    "collapsed": false,
    "pycharm": {
     "name": "#%% md\n"
    }
   }
  },
  {
   "cell_type": "code",
   "execution_count": null,
   "outputs": [],
   "source": [
    "\n",
    "try:\n",
    "    car = CarInfrared()\n",
    "    while True:\n",
    "        [left, right] = car.InfraredMeasure()\n",
    "        [l, r] = car.TrackingMreasure()\n",
    "        # print(left, right)\n",
    "        print(l, r)\n",
    "        time.sleep(1)\n",
    "\n",
    "    # Reset by pressing CTRL + C\n",
    "except KeyboardInterrupt:\n",
    "    print(\"Measurement stopped by User\")\n",
    "    GPIO.cleanup()"
   ],
   "metadata": {
    "collapsed": false,
    "pycharm": {
     "name": "#%%\n"
    }
   }
  },
  {
   "cell_type": "markdown",
   "source": [
    "\n",
    "## 3、摄像头"
   ],
   "metadata": {
    "collapsed": false
   }
  },
  {
   "cell_type": "markdown",
   "source": [
    "\n",
    "树莓派使用CSI摄像头，其主要特征：\n",
    "全称CMOS Sensor Interface(CSI)<br/>\n",
    "前端-配置逻辑接口以便支持大多数通用的可用的CMOS摄像头接口。<br/>\n",
    "支持CCIR656视频接口以及传统的摄像头接口。<br/>\n",
    "8位数据口，支持方便YCC,YUV,Bayer或者是RGB的数据格式输入。<br/>\n",
    "完全可控的8-bit或16-bit数据到32-bit的FIFO进行打包<br/>\n",
    "32*32大小的FIFO存储接受到的的图像像素数据，该FIFO可以通过可编程的IO或者是DMA进行读取.<br/>\n",
    "后端-提供了直接到eMMA的预处理PrP块接口(PrP和PP组成了MX27图形加速器eMMA，PrP和PP能够用来给视频做预处理和后期处理，例如，放大，缩小，颜色转换)<br/>\n",
    "提供sensor的可屏蔽中断源，该中断源也是中断可控的： 开始Frame,结束Frame,Change of Field,FIFO Full<br/>\n",
    "提供给外部sensor用的，可配置的主时钟频率<br/>\n",
    "由统计数据产生的自动曝光(AE)和自动白平衡(AWB)控制。<br/>\n",
    "\n",
    "感觉不是什么重点，参考链接：[CMOS Sensor Interface(CSI)](https://www.cnblogs.com/lifan3a/articles/5010633.html)"
   ],
   "metadata": {
    "collapsed": false
   }
  },
  {
   "cell_type": "markdown",
   "source": [
    "\n",
    "可以使用socket获取树莓派摄像头图像，通过网络传输，使用opencv库在PC端对接受的数据进行解码，此时的PC段与树莓派可以看做一个C/S结构的图像传输应用"
   ],
   "metadata": {
    "collapsed": false,
    "pycharm": {
     "name": "#%% md\n"
    }
   }
  },
  {
   "cell_type": "markdown",
   "source": [
    "\n",
    "### 示例代码（PC端）"
   ],
   "metadata": {
    "collapsed": false
   }
  },
  {
   "cell_type": "code",
   "execution_count": 1,
   "outputs": [],
   "source": [
    "\n",
    "import cv2\n",
    "import numpy\n",
    "import socket\n",
    "import struct"
   ],
   "metadata": {
    "collapsed": false,
    "pycharm": {
     "name": "#%%\n",
     "is_executing": false
    }
   }
  },
  {
   "cell_type": "markdown",
   "source": [
    "\n",
    "通过socket套接字接受数据，然后使用opencv对收到的二进制数据进行解码，并显示在窗口中。"
   ],
   "metadata": {
    "collapsed": false
   }
  },
  {
   "cell_type": "code",
   "execution_count": null,
   "outputs": [
    {
     "name": "stdout",
     "text": [
      "now waiting for frames...\nhave received frame\n",
      "have received frame\nhave received frame\nhave received frame\nhave received frame\nhave received frame\nhave received frame\nhave received frame\n",
      "have received frame\nhave received frame\nhave received frame\nhave received frame\n",
      "have received frame\nhave received frame\n",
      "have received frame\nhave received frame\n",
      "have received frame\nhave received frame\n",
      "have received frame\nhave received frame\n",
      "have received frame\nhave received frame\n",
      "have received frame\nhave received frame\n",
      "have received frame\nhave received frame\n",
      "have received frame\nhave received frame\n",
      "have received frame\nhave received frame\n",
      "have received frame\n",
      "check error\nhave received frame\n",
      "have received frame\nhave received frame\n",
      "have received frame\nhave received frame\n",
      "have received frame\nhave received frame\n",
      "have received frame\nhave received frame\n",
      "have received frame\nhave received frame\n",
      "have received frame\nhave received frame\n",
      "have received frame\nhave received frame\n",
      "have received frame\nhave received frame\n",
      "have received frame\nhave received frame\n",
      "have received frame\nhave received frame\n",
      "have received frame\nhave received frame\n",
      "have received frame\nhave received frame\n",
      "have received frame\nhave received frame\n",
      "have received frame\nhave received frame\n",
      "have received frame\nhave received frame\n",
      "have received frame\nhave received frame\n",
      "have received frame\nhave received frame\n",
      "have received frame\nhave received frame\n",
      "have received frame\nhave received frame\n",
      "have received frame\nhave received frame\n",
      "have received frame\nhave received frame\n",
      "have received frame\nhave received frame\n",
      "have received frame\nhave received frame\n",
      "have received frame\nhave received frame\n",
      "have received frame\nhave received frame\n",
      "have received frame\nhave received frame\n",
      "have received frame\nhave received frame\n",
      "have received frame\nhave received frame\n",
      "have received frame\nhave received frame\n",
      "have received frame\nhave received frame\n",
      "have received frame\nhave received frame\n",
      "have received frame\nhave received frame\n",
      "have received frame\nhave received frame\nhave received frame\n",
      "have received frame\nhave received frame\nhave received frame\n",
      "have received frame\nhave received frame\n",
      "have received frame\nhave received frame\n",
      "have received frame\nhave received frame\n",
      "have received frame\nhave received frame\n",
      "have received frame\nhave received frame\n",
      "have received frame\nhave received frame\n",
      "have received frame\nhave received frame\n",
      "have received frame\nhave received frame\n",
      "have received frame\nhave received frame\n",
      "have received frame\nhave received frame\n",
      "have received frame\nhave received frame\n",
      "have received frame\nhave received frame\n",
      "have received frame\nhave received frame\n",
      "have received frame\nhave received frame\n",
      "have received frame\nhave received frame\n",
      "have received frame\nhave received frame\n",
      "have received frame\nhave received frame\n",
      "have received frame\nhave received frame\n",
      "have received frame\nhave received frame\n",
      "have received frame\nhave received frame\n",
      "have received frame\nhave received frame\n",
      "have received frame\nhave received frame\n",
      "have received frame\nhave received frame\n",
      "have received frame\nhave received frame\n",
      "have received frame\n",
      "check error\nhave received frame\n",
      "have received frame\nhave received frame\n",
      "have received frame\nhave received frame\n",
      "have received frame\nhave received frame\nhave received frame\n",
      "have received frame\nhave received frame\n",
      "have received frame\nhave received frame\n",
      "have received frame\nhave received frame\n",
      "have received frame\nhave received frame\n",
      "have received frame\nhave received frame\n",
      "have received frame\nhave received frame\n",
      "have received frame\nhave received frame\n",
      "have received frame\nhave received frame\n",
      "have received frame\nhave received frame\n",
      "have received frame\nhave received frame\n",
      "have received frame\nhave received frame\nhave received frame\n",
      "have received frame\nhave received frame\nhave received frame\n",
      "check error\nhave received frame\n",
      "have received frame\nhave received frame\n",
      "have received frame\nhave received frame\n",
      "have received frame\nhave received frame\n",
      "have received frame\nhave received frame\n",
      "have received frame\nhave received frame\n",
      "have received frame\nhave received frame\nhave received frame\n",
      "have received frame\nhave received frame\nhave received frame\n",
      "have received frame\nhave received frame\nhave received frame",
      "\nhave received frame\nhave received frame\n",
      "have received frame\nhave received frame\n",
      "have received frame\nhave received frame\n",
      "have received frame\nhave received frame\n",
      "have received frame\nhave received frame\n",
      "have received frame\nhave received frame\n",
      "have received frame\nhave received frame\n",
      "have received frame\nhave received frame\n",
      "have received frame\nhave received frame\n",
      "have received frame\nhave received frame\n",
      "have received frame\nhave received frame\n",
      "have received frame\nhave received frame\n",
      "have received frame\nhave received frame\n",
      "have received frame\nhave received frame\n",
      "have received frame\nhave received frame\nhave received frame\n",
      "have received frame\nhave received frame\nhave received frame\n",
      "have received frame\nhave received frame\n",
      "have received frame\nhave received frame\n",
      "have received frame\nhave received frame\n",
      "have received frame\nhave received frame\n",
      "have received frame\nhave received frame\n",
      "have received frame\nhave received frame\n",
      "have received frame\nhave received frame\nhave received frame\n",
      "have received frame\nhave received frame\nhave received frame\n",
      "have received frame\nhave received frame\nhave received frame",
      "\nhave received frame\n",
      "have received frame\nhave received frame\n",
      "have received frame\nhave received frame\n",
      "have received frame\nhave received frame\n",
      "have received frame\nhave received frame\n",
      "have received frame\nhave received frame\n",
      "have received frame\nhave received frame\n",
      "have received frame\nhave received frame\n",
      "have received frame\nhave received frame\n",
      "have received frame\nhave received frame\n",
      "have received frame\nhave received frame\n",
      "have received frame\nhave received frame\n",
      "have received frame\nhave received frame\n",
      "have received frame\nhave received frame\n",
      "have received frame\nhave received frame\n",
      "have received frame\nhave received frame\n",
      "have received frame\nhave received frame\n"
     ],
     "output_type": "stream"
    }
   ],
   "source": [
    "\n",
    "HOST='192.168.12.183'\n",
    "PORT= 8000\n",
    "buffSize=65535\n",
    "\n",
    "\n",
    "server=socket.socket(socket.AF_INET,socket.SOCK_DGRAM) #创建socket对象\n",
    "server.bind((HOST,PORT))\n",
    "print('now waiting for frames...')\n",
    "i = 7\n",
    "\n",
    "while True:\n",
    "    data,address=server.recvfrom(buffSize) #先接收的是字节长度\n",
    "    if len(data)==1 and data[0]==1: #如果收到关闭消息则停止程序\n",
    "        server.close()\n",
    "        cv2.destroyAllWindows()\n",
    "        exit()\n",
    "    if len(data)!=4: #进行简单的校验，长度值是int类型，占四个字节\n",
    "        length=0\n",
    "        continue\n",
    "    else:\n",
    "        length=struct.unpack('i',data)[0] #长度值\n",
    "    data,address=server.recvfrom(buffSize) #接收编码图像数据\n",
    "    if length!=len(data): #进行简单的校验\n",
    "        print(\"check error\")\n",
    "        continue\n",
    "    data=numpy.array(bytearray(data)) #格式转换\n",
    "    imgdecode=cv2.imdecode(data,1) #解码\n",
    "    print('have received frame')\n",
    "\n",
    "    cv2.imshow('frames',imgdecode) #窗口显示\n",
    "\n",
    "    key = cv2.waitKey(1)\n",
    "    if key == ord('s'):\n",
    "        cv2.imwrite('/home/mingrui/Mingrui/RaspberryCar/photo_tennis/tennis_'+ str(i) +'.jpg', imgdecode)\n",
    "        i = i + 1\n",
    "\n",
    "\n",
    "    if cv2.waitKey(1)==27: #按下“ESC”退出\n",
    "        break\n",
    "    \n",
    "server.close()\n",
    "cv2.destroyAllWindows()"
   ],
   "metadata": {
    "collapsed": false,
    "pycharm": {
     "name": "#%%\n",
     "is_executing": true
    }
   }
  },
  {
   "cell_type": "markdown",
   "source": [
    "\n",
    "上述代码正常执行需要在树莓派的终端上首先执行，并且脚本中的IP地址应为当前PC的IP地址 <br/><br/>\n",
    "sudo python3 ./PythonCode/camera.py"
   ],
   "metadata": {
    "collapsed": false,
    "pycharm": {
     "name": "#%% md\n"
    }
   }
  }
 ],
 "metadata": {
  "kernelspec": {
   "display_name": "Python 3",
   "language": "python",
   "name": "python3"
  },
  "language_info": {
   "codemirror_mode": {
    "name": "ipython",
    "version": 2
   },
   "file_extension": ".py",
   "mimetype": "text/x-python",
   "name": "python",
   "nbconvert_exporter": "python",
   "pygments_lexer": "ipython2",
   "version": "2.7.6"
  },
  "pycharm": {
   "stem_cell": {
    "cell_type": "raw",
    "source": [],
    "metadata": {
     "collapsed": false
    }
   }
  }
 },
 "nbformat": 4,
 "nbformat_minor": 0
}